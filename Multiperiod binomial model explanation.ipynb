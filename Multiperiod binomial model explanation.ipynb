{
 "cells": [
  {
   "cell_type": "markdown",
   "metadata": {},
   "source": [
    "# The Multiperiod Binomial Model\n",
    "\n",
    "(For full detail see chapter 1 of Shreve's 'Stochastic calculus for finance vol 1')\n",
    "\n",
    "Given an asset with price $S_0$ at time 0, we will run a simulation of its price up to some timestep $N$. The simplest way to do this is to assume that every step forward the asset can move up or down in price by a set factor $u$ for up and $d$ for down. (We will also assume there is risk free interest rate of $r$, and in order to have no aribtrage it is required that $0<d<1+r<u$).\n",
    "\n",
    "So for example after 3 timesteps the possible prices will be $\\{ u^ad^bS_0 : a+b=3 \\}$. We can then create a derivative that is a function of the final price $S_N$, and with some clever mathematics based on replicating the derivative using a certian quantity of $S$ and the money market, we can arrive at a fair price for the derivative at time $0$."
   ]
  },
  {
   "cell_type": "markdown",
   "metadata": {},
   "source": [
    "We will define the payoff of the derivative at time $N$ to be $V_N$. For example a European call option with strike price $K$ will have payoff of $$V_N := \\max\\{0, (S-K)^+\\}.$$"
   ]
  },
  {
   "cell_type": "markdown",
   "metadata": {},
   "source": [
    "From these values we can derive two values called the risk neutral probabilities, denoted $\\tilde{p}$ and $\\tilde{q}$ which for the sake of brevity we will just define here as\n",
    "$$\\tilde{p}=\\frac{1+r-d}{u-d}, \\quad \\tilde{q} = 1-\\tilde{p}.$$\n",
    "Full details of where these values come from can be found in Shreve."
   ]
  },
  {
   "cell_type": "markdown",
   "metadata": {},
   "source": [
    "As mentioned above, we can now replicate the payoff of the derivative by picking a certain quantity of stock and money to make a portfolio out of, such that the value of the portfolio at time $N$ will always match the payoff of the derivtive. The cost to create this portfolio t time $0$ will therefore be the fair price of the derivative contract. Any deviation from this price will allow for arbitrage. After performing these calculations we can arrive at the following mathematics. For some time $n \\in \\{0,\\dots,N-1\\}$ and some coin tosses $\\omega_1,\\dots,\\omega_n$ we can compute the price of the derivative using the formula\n",
    "$$V_n(\\omega_1\\dots\\omega_n)=\\frac{1}{1+r}\\left[\\tilde{p}V_{n+1}(\\omega_1\\dots\\omega_nH)+\\tilde{q}V_{n+1}(\\omega_1\\dots\\omega_nT)\\right].$$\n",
    "In other words the price at time $n$ is the discounted average of the price at $n+1$ weighted by the risk neutral probabilities."
   ]
  },
  {
   "cell_type": "markdown",
   "metadata": {},
   "source": [
    "Using this formula we get the price of the derivative at time $0$, by starting with the payoff $V_N$ and calculating backwards until we reach $V_0$. "
   ]
  }
 ],
 "metadata": {
  "kernelspec": {
   "display_name": "Python 3",
   "language": "python",
   "name": "python3"
  },
  "language_info": {
   "codemirror_mode": {
    "name": "ipython",
    "version": 3
   },
   "file_extension": ".py",
   "mimetype": "text/x-python",
   "name": "python",
   "nbconvert_exporter": "python",
   "pygments_lexer": "ipython3",
   "version": "3.7.1"
  }
 },
 "nbformat": 4,
 "nbformat_minor": 2
}
