{
 "cells": [
  {
   "cell_type": "markdown",
   "metadata": {},
   "source": [
    "# The Multiperiod Binomial Model\n",
    "\n",
    "Given an asset with price $S_0$ at time 0, we will run a simulation up to some timestep $N$. The simplest way to do this is to assume that every step forward the asset can move up or down in price by a set factor $u$ for up and $d$ for down.\n",
    "\n",
    "So after 3 timesteps the possible prices will be $\\{ u^ad^bS_0 : a+b=3 \\}$."
   ]
  },
  {
   "cell_type": "code",
   "execution_count": null,
   "metadata": {},
   "outputs": [],
   "source": []
  }
 ],
 "metadata": {
  "kernelspec": {
   "display_name": "Python 3",
   "language": "python",
   "name": "python3"
  },
  "language_info": {
   "codemirror_mode": {
    "name": "ipython",
    "version": 3
   },
   "file_extension": ".py",
   "mimetype": "text/x-python",
   "name": "python",
   "nbconvert_exporter": "python",
   "pygments_lexer": "ipython3",
   "version": "3.7.1"
  }
 },
 "nbformat": 4,
 "nbformat_minor": 2
}
